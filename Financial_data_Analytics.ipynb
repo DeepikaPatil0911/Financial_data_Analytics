{
 "cells": [
  {
   "cell_type": "code",
   "execution_count": 1,
   "id": "e1e77e06-1b39-4003-a995-a0f267914879",
   "metadata": {},
   "outputs": [],
   "source": [
    "# Importe libraries\n",
    "\n",
    "import numpy as np\n",
    "import pandas as pd\n",
    "import seaborn as sns\n",
    "import matplotlib.pyplot as plt"
   ]
  },
  {
   "cell_type": "code",
   "execution_count": 2,
   "id": "9073fc62-8038-4a2e-9967-fb61abb38ad1",
   "metadata": {},
   "outputs": [
    {
     "data": {
      "text/html": [
       "<div>\n",
       "<style scoped>\n",
       "    .dataframe tbody tr th:only-of-type {\n",
       "        vertical-align: middle;\n",
       "    }\n",
       "\n",
       "    .dataframe tbody tr th {\n",
       "        vertical-align: top;\n",
       "    }\n",
       "\n",
       "    .dataframe thead th {\n",
       "        text-align: right;\n",
       "    }\n",
       "</style>\n",
       "<table border=\"1\" class=\"dataframe\">\n",
       "  <thead>\n",
       "    <tr style=\"text-align: right;\">\n",
       "      <th></th>\n",
       "      <th>S.No.</th>\n",
       "      <th>Name</th>\n",
       "      <th>Mar Cap - Crore</th>\n",
       "      <th>Sales Qtr - Crore</th>\n",
       "    </tr>\n",
       "  </thead>\n",
       "  <tbody>\n",
       "    <tr>\n",
       "      <th>0</th>\n",
       "      <td>1</td>\n",
       "      <td>Reliance Inds.</td>\n",
       "      <td>583436.72</td>\n",
       "      <td>99810.00</td>\n",
       "    </tr>\n",
       "    <tr>\n",
       "      <th>1</th>\n",
       "      <td>2</td>\n",
       "      <td>TCS</td>\n",
       "      <td>563709.84</td>\n",
       "      <td>30904.00</td>\n",
       "    </tr>\n",
       "    <tr>\n",
       "      <th>2</th>\n",
       "      <td>3</td>\n",
       "      <td>HDFC Bank</td>\n",
       "      <td>482953.59</td>\n",
       "      <td>20581.27</td>\n",
       "    </tr>\n",
       "    <tr>\n",
       "      <th>3</th>\n",
       "      <td>4</td>\n",
       "      <td>ITC</td>\n",
       "      <td>320985.27</td>\n",
       "      <td>9772.02</td>\n",
       "    </tr>\n",
       "    <tr>\n",
       "      <th>4</th>\n",
       "      <td>5</td>\n",
       "      <td>H D F C</td>\n",
       "      <td>289497.37</td>\n",
       "      <td>16840.51</td>\n",
       "    </tr>\n",
       "    <tr>\n",
       "      <th>...</th>\n",
       "      <td>...</td>\n",
       "      <td>...</td>\n",
       "      <td>...</td>\n",
       "      <td>...</td>\n",
       "    </tr>\n",
       "    <tr>\n",
       "      <th>483</th>\n",
       "      <td>496</td>\n",
       "      <td>Lak. Vilas Bank</td>\n",
       "      <td>3029.57</td>\n",
       "      <td>790.17</td>\n",
       "    </tr>\n",
       "    <tr>\n",
       "      <th>484</th>\n",
       "      <td>497</td>\n",
       "      <td>NOCIL</td>\n",
       "      <td>3026.26</td>\n",
       "      <td>249.27</td>\n",
       "    </tr>\n",
       "    <tr>\n",
       "      <th>485</th>\n",
       "      <td>498</td>\n",
       "      <td>Orient Cement</td>\n",
       "      <td>3024.32</td>\n",
       "      <td>511.53</td>\n",
       "    </tr>\n",
       "    <tr>\n",
       "      <th>486</th>\n",
       "      <td>499</td>\n",
       "      <td>Natl.Fertilizer</td>\n",
       "      <td>3017.07</td>\n",
       "      <td>2840.75</td>\n",
       "    </tr>\n",
       "    <tr>\n",
       "      <th>487</th>\n",
       "      <td>500</td>\n",
       "      <td>L T Foods</td>\n",
       "      <td>0.00</td>\n",
       "      <td>0.00</td>\n",
       "    </tr>\n",
       "  </tbody>\n",
       "</table>\n",
       "<p>488 rows × 4 columns</p>\n",
       "</div>"
      ],
      "text/plain": [
       "     S.No.             Name  Mar Cap - Crore  Sales Qtr - Crore\n",
       "0        1   Reliance Inds.        583436.72           99810.00\n",
       "1        2              TCS        563709.84           30904.00\n",
       "2        3        HDFC Bank        482953.59           20581.27\n",
       "3        4              ITC        320985.27            9772.02\n",
       "4        5          H D F C        289497.37           16840.51\n",
       "..     ...              ...              ...                ...\n",
       "483    496  Lak. Vilas Bank          3029.57             790.17\n",
       "484    497            NOCIL          3026.26             249.27\n",
       "485    498    Orient Cement          3024.32             511.53\n",
       "486    499  Natl.Fertilizer          3017.07            2840.75\n",
       "487    500        L T Foods             0.00               0.00\n",
       "\n",
       "[488 rows x 4 columns]"
      ]
     },
     "execution_count": 2,
     "metadata": {},
     "output_type": "execute_result"
    }
   ],
   "source": [
    "data = pd.read_csv(\"Financial_Analytics_data.csv\")\n",
    "data"
   ]
  },
  {
   "cell_type": "code",
   "execution_count": 3,
   "id": "0cf28088-d38f-46d5-bcbd-ab8f222d3e6f",
   "metadata": {},
   "outputs": [
    {
     "data": {
      "text/plain": [
       "(488, 4)"
      ]
     },
     "execution_count": 3,
     "metadata": {},
     "output_type": "execute_result"
    }
   ],
   "source": [
    "data.shape"
   ]
  },
  {
   "cell_type": "code",
   "execution_count": 4,
   "id": "1ff4e525-3956-4a8c-873f-8f197e4e02b0",
   "metadata": {},
   "outputs": [
    {
     "data": {
      "text/plain": [
       "1952"
      ]
     },
     "execution_count": 4,
     "metadata": {},
     "output_type": "execute_result"
    }
   ],
   "source": [
    "data.size"
   ]
  },
  {
   "cell_type": "code",
   "execution_count": 5,
   "id": "d164614f-569c-495b-a4ee-50605ebca744",
   "metadata": {},
   "outputs": [
    {
     "data": {
      "text/plain": [
       "Index(['S.No.', 'Name', 'Mar Cap - Crore', 'Sales Qtr - Crore'], dtype='object')"
      ]
     },
     "execution_count": 5,
     "metadata": {},
     "output_type": "execute_result"
    }
   ],
   "source": [
    "data.columns"
   ]
  },
  {
   "cell_type": "code",
   "execution_count": 6,
   "id": "34c4a8eb-5c75-4e58-a1c0-f9a2dbb7dce6",
   "metadata": {},
   "outputs": [
    {
     "data": {
      "text/plain": [
       "S.No.                0\n",
       "Name                 0\n",
       "Mar Cap - Crore      0\n",
       "Sales Qtr - Crore    0\n",
       "dtype: int64"
      ]
     },
     "execution_count": 6,
     "metadata": {},
     "output_type": "execute_result"
    }
   ],
   "source": [
    "data.isnull().sum()"
   ]
  },
  {
   "cell_type": "code",
   "execution_count": 7,
   "id": "2e27b191-2248-4b7b-8301-bbf6e2b74412",
   "metadata": {},
   "outputs": [
    {
     "data": {
      "text/plain": [
       "S.No.                                                           122736\n",
       "Name                 Reliance Inds.TCSHDFC BankITCH D F CHind. Unil...\n",
       "Mar Cap - Crore                                            13433007.56\n",
       "Sales Qtr - Crore                                           1604531.55\n",
       "dtype: object"
      ]
     },
     "execution_count": 7,
     "metadata": {},
     "output_type": "execute_result"
    }
   ],
   "source": [
    "data.sum()"
   ]
  },
  {
   "cell_type": "markdown",
   "id": "2c2d8708-0079-497b-854d-89b13e7e2258",
   "metadata": {},
   "source": [
    "# Information\n",
    "\n",
    "`Name: We have different companies name`\n",
    "\n",
    "## Mar Cap - Crore: \n",
    "`1. Market Capitalisation in Crore`\n",
    "\n",
    "*`2. What is Market capitalization, or market cap ?-  Market capitalization, or market cap is one measurement of a company's size.`*\n",
    "\n",
    "        \n",
    "## Sales Qtr - Crore: \n",
    "`1.Sales Quarterly in Crore`\n",
    "\n",
    "*`2. What is the Sales Quarter?- Sales Quarter means, with respect to each Product, a fiscal period of three (3) consecutive calendar months starting on the first day of the first, fourth, seventh and tenth month of each Sales Year.`*\n"
   ]
  },
  {
   "cell_type": "markdown",
   "id": "bdbb59f5-369f-4384-a93e-e84731d2d549",
   "metadata": {},
   "source": [
    "## There are three types of market capitalizations:\n",
    "\n",
    "-`Large-cap: Rs.20000 crores and more`\n",
    "\n",
    "-`Mid-cap: Rs.5000 to Rs.20000 crores.`\n",
    "\n",
    "-`Small-cap: below Rs.5000 crores.`"
   ]
  },
  {
   "cell_type": "code",
   "execution_count": 8,
   "id": "8e9f0a91-f759-4468-a8af-97a37954ba29",
   "metadata": {},
   "outputs": [
    {
     "data": {
      "text/html": [
       "<div>\n",
       "<style scoped>\n",
       "    .dataframe tbody tr th:only-of-type {\n",
       "        vertical-align: middle;\n",
       "    }\n",
       "\n",
       "    .dataframe tbody tr th {\n",
       "        vertical-align: top;\n",
       "    }\n",
       "\n",
       "    .dataframe thead th {\n",
       "        text-align: right;\n",
       "    }\n",
       "</style>\n",
       "<table border=\"1\" class=\"dataframe\">\n",
       "  <thead>\n",
       "    <tr style=\"text-align: right;\">\n",
       "      <th></th>\n",
       "      <th>S.No.</th>\n",
       "      <th>Name</th>\n",
       "      <th>Mar Cap - Crore</th>\n",
       "      <th>Sales Qtr - Crore</th>\n",
       "    </tr>\n",
       "  </thead>\n",
       "  <tbody>\n",
       "    <tr>\n",
       "      <th>0</th>\n",
       "      <td>1</td>\n",
       "      <td>Reliance Inds.</td>\n",
       "      <td>583436.72</td>\n",
       "      <td>99810.0</td>\n",
       "    </tr>\n",
       "    <tr>\n",
       "      <th>1</th>\n",
       "      <td>2</td>\n",
       "      <td>TCS</td>\n",
       "      <td>563709.84</td>\n",
       "      <td>30904.0</td>\n",
       "    </tr>\n",
       "  </tbody>\n",
       "</table>\n",
       "</div>"
      ],
      "text/plain": [
       "   S.No.            Name  Mar Cap - Crore  Sales Qtr - Crore\n",
       "0      1  Reliance Inds.        583436.72            99810.0\n",
       "1      2             TCS        563709.84            30904.0"
      ]
     },
     "execution_count": 8,
     "metadata": {},
     "output_type": "execute_result"
    }
   ],
   "source": [
    "data.head(2)"
   ]
  },
  {
   "cell_type": "code",
   "execution_count": 9,
   "id": "96d3bb2e-1d89-4b81-8ea3-b1dbe4fe45eb",
   "metadata": {},
   "outputs": [],
   "source": [
    "# We have to distribute the company's market cap by their categories.\n",
    "\n",
    "def mar_cap_categories(row):\n",
    "    if row >= 20000:\n",
    "        return 'Large-cap'\n",
    "    elif row >5000 and row<20000:\n",
    "        return 'Mid-cap'\n",
    "    elif row <=5000:\n",
    "        return 'Small-cap'"
   ]
  },
  {
   "cell_type": "code",
   "execution_count": 10,
   "id": "62ce93d1-5484-4bd8-88e6-65866afc82c3",
   "metadata": {},
   "outputs": [
    {
     "data": {
      "text/html": [
       "<div>\n",
       "<style scoped>\n",
       "    .dataframe tbody tr th:only-of-type {\n",
       "        vertical-align: middle;\n",
       "    }\n",
       "\n",
       "    .dataframe tbody tr th {\n",
       "        vertical-align: top;\n",
       "    }\n",
       "\n",
       "    .dataframe thead th {\n",
       "        text-align: right;\n",
       "    }\n",
       "</style>\n",
       "<table border=\"1\" class=\"dataframe\">\n",
       "  <thead>\n",
       "    <tr style=\"text-align: right;\">\n",
       "      <th></th>\n",
       "      <th>S.No.</th>\n",
       "      <th>Name</th>\n",
       "      <th>Mar Cap - Crore</th>\n",
       "      <th>Sales Qtr - Crore</th>\n",
       "      <th>Mar_Cap_Categories</th>\n",
       "    </tr>\n",
       "  </thead>\n",
       "  <tbody>\n",
       "    <tr>\n",
       "      <th>0</th>\n",
       "      <td>1</td>\n",
       "      <td>Reliance Inds.</td>\n",
       "      <td>583436.72</td>\n",
       "      <td>99810.00</td>\n",
       "      <td>Large-cap</td>\n",
       "    </tr>\n",
       "    <tr>\n",
       "      <th>1</th>\n",
       "      <td>2</td>\n",
       "      <td>TCS</td>\n",
       "      <td>563709.84</td>\n",
       "      <td>30904.00</td>\n",
       "      <td>Large-cap</td>\n",
       "    </tr>\n",
       "    <tr>\n",
       "      <th>2</th>\n",
       "      <td>3</td>\n",
       "      <td>HDFC Bank</td>\n",
       "      <td>482953.59</td>\n",
       "      <td>20581.27</td>\n",
       "      <td>Large-cap</td>\n",
       "    </tr>\n",
       "    <tr>\n",
       "      <th>3</th>\n",
       "      <td>4</td>\n",
       "      <td>ITC</td>\n",
       "      <td>320985.27</td>\n",
       "      <td>9772.02</td>\n",
       "      <td>Large-cap</td>\n",
       "    </tr>\n",
       "    <tr>\n",
       "      <th>4</th>\n",
       "      <td>5</td>\n",
       "      <td>H D F C</td>\n",
       "      <td>289497.37</td>\n",
       "      <td>16840.51</td>\n",
       "      <td>Large-cap</td>\n",
       "    </tr>\n",
       "    <tr>\n",
       "      <th>...</th>\n",
       "      <td>...</td>\n",
       "      <td>...</td>\n",
       "      <td>...</td>\n",
       "      <td>...</td>\n",
       "      <td>...</td>\n",
       "    </tr>\n",
       "    <tr>\n",
       "      <th>195</th>\n",
       "      <td>202</td>\n",
       "      <td>Shri.City Union.</td>\n",
       "      <td>12995.31</td>\n",
       "      <td>1338.09</td>\n",
       "      <td>Mid-cap</td>\n",
       "    </tr>\n",
       "    <tr>\n",
       "      <th>196</th>\n",
       "      <td>203</td>\n",
       "      <td>L&amp;T Technology</td>\n",
       "      <td>12942.25</td>\n",
       "      <td>0.00</td>\n",
       "      <td>Mid-cap</td>\n",
       "    </tr>\n",
       "    <tr>\n",
       "      <th>197</th>\n",
       "      <td>204</td>\n",
       "      <td>Rain Industries</td>\n",
       "      <td>12655.17</td>\n",
       "      <td>3050.81</td>\n",
       "      <td>Mid-cap</td>\n",
       "    </tr>\n",
       "    <tr>\n",
       "      <th>198</th>\n",
       "      <td>205</td>\n",
       "      <td>Torrent Power</td>\n",
       "      <td>12599.37</td>\n",
       "      <td>2754.64</td>\n",
       "      <td>Mid-cap</td>\n",
       "    </tr>\n",
       "    <tr>\n",
       "      <th>199</th>\n",
       "      <td>206</td>\n",
       "      <td>Dilip Buildcon</td>\n",
       "      <td>12526.06</td>\n",
       "      <td>1942.12</td>\n",
       "      <td>Mid-cap</td>\n",
       "    </tr>\n",
       "  </tbody>\n",
       "</table>\n",
       "<p>200 rows × 5 columns</p>\n",
       "</div>"
      ],
      "text/plain": [
       "     S.No.              Name  Mar Cap - Crore  Sales Qtr - Crore  \\\n",
       "0        1    Reliance Inds.        583436.72           99810.00   \n",
       "1        2               TCS        563709.84           30904.00   \n",
       "2        3         HDFC Bank        482953.59           20581.27   \n",
       "3        4               ITC        320985.27            9772.02   \n",
       "4        5           H D F C        289497.37           16840.51   \n",
       "..     ...               ...              ...                ...   \n",
       "195    202  Shri.City Union.         12995.31            1338.09   \n",
       "196    203    L&T Technology         12942.25               0.00   \n",
       "197    204   Rain Industries         12655.17            3050.81   \n",
       "198    205     Torrent Power         12599.37            2754.64   \n",
       "199    206    Dilip Buildcon         12526.06            1942.12   \n",
       "\n",
       "    Mar_Cap_Categories  \n",
       "0            Large-cap  \n",
       "1            Large-cap  \n",
       "2            Large-cap  \n",
       "3            Large-cap  \n",
       "4            Large-cap  \n",
       "..                 ...  \n",
       "195            Mid-cap  \n",
       "196            Mid-cap  \n",
       "197            Mid-cap  \n",
       "198            Mid-cap  \n",
       "199            Mid-cap  \n",
       "\n",
       "[200 rows x 5 columns]"
      ]
     },
     "execution_count": 10,
     "metadata": {},
     "output_type": "execute_result"
    }
   ],
   "source": [
    "data['Mar_Cap_Categories'] = data['Mar Cap - Crore'].apply(mar_cap_categories)\n",
    "data.head(200)"
   ]
  },
  {
   "cell_type": "code",
   "execution_count": 11,
   "id": "0819e4db-190e-4aed-9622-eb83c5a5c2a7",
   "metadata": {},
   "outputs": [
    {
     "data": {
      "image/png": "[encoded data removed]",
      "text/plain": [
       "<Figure size 640x480 with 1 Axes>"
      ]
     },
     "metadata": {},
     "output_type": "display_data"
    }
   ],
   "source": [
    "mcc=sns.countplot(x=data['Mar_Cap_Categories'], data=data, hue='Mar_Cap_Categories')\n",
    "plt.title('Market Capitalisation Categories wise', fontsize=16)\n",
    "plt.xlabel('Market Cap Categories', fontsize=14)\n",
    "plt.ylabel('Count' , fontsize=14)\n",
    "plt.show()"
   ]
  },
  {
   "cell_type": "code",
   "execution_count": 12,
   "id": "9984b7e9-da34-4283-8950-4da00ebbe1a8",
   "metadata": {},
   "outputs": [
    {
     "data": {
      "text/plain": [
       "Mar_Cap_Categories\n",
       "Large-cap    135\n",
       "Mid-cap      216\n",
       "Small-cap    137\n",
       "Name: Mar Cap - Crore, dtype: int64"
      ]
     },
     "execution_count": 12,
     "metadata": {},
     "output_type": "execute_result"
    }
   ],
   "source": [
    "mcc = data.groupby('Mar_Cap_Categories')['Mar Cap - Crore'].count()\n",
    "mcc"
   ]
  },
  {
   "cell_type": "code",
   "execution_count": 13,
   "id": "a1082d97-d697-4a9a-beb6-a11e4f20f726",
   "metadata": {},
   "outputs": [
    {
     "data": {
      "text/html": [
       "<div>\n",
       "<style scoped>\n",
       "    .dataframe tbody tr th:only-of-type {\n",
       "        vertical-align: middle;\n",
       "    }\n",
       "\n",
       "    .dataframe tbody tr th {\n",
       "        vertical-align: top;\n",
       "    }\n",
       "\n",
       "    .dataframe thead th {\n",
       "        text-align: right;\n",
       "    }\n",
       "</style>\n",
       "<table border=\"1\" class=\"dataframe\">\n",
       "  <thead>\n",
       "    <tr style=\"text-align: right;\">\n",
       "      <th></th>\n",
       "      <th>S.No.</th>\n",
       "      <th>Name</th>\n",
       "      <th>Mar Cap - Crore</th>\n",
       "      <th>Sales Qtr - Crore</th>\n",
       "      <th>Mar_Cap_Categories</th>\n",
       "    </tr>\n",
       "  </thead>\n",
       "  <tbody>\n",
       "    <tr>\n",
       "      <th>0</th>\n",
       "      <td>1</td>\n",
       "      <td>Reliance Inds.</td>\n",
       "      <td>583436.72</td>\n",
       "      <td>99810.0</td>\n",
       "      <td>Large-cap</td>\n",
       "    </tr>\n",
       "    <tr>\n",
       "      <th>1</th>\n",
       "      <td>2</td>\n",
       "      <td>TCS</td>\n",
       "      <td>563709.84</td>\n",
       "      <td>30904.0</td>\n",
       "      <td>Large-cap</td>\n",
       "    </tr>\n",
       "  </tbody>\n",
       "</table>\n",
       "</div>"
      ],
      "text/plain": [
       "   S.No.            Name  Mar Cap - Crore  Sales Qtr - Crore  \\\n",
       "0      1  Reliance Inds.        583436.72            99810.0   \n",
       "1      2             TCS        563709.84            30904.0   \n",
       "\n",
       "  Mar_Cap_Categories  \n",
       "0          Large-cap  \n",
       "1          Large-cap  "
      ]
     },
     "execution_count": 13,
     "metadata": {},
     "output_type": "execute_result"
    }
   ],
   "source": [
    "data.head(2)"
   ]
  },
  {
   "cell_type": "code",
   "execution_count": 14,
   "id": "ec2e4c62-7dd1-4194-b9e2-8e1b4c6d11fe",
   "metadata": {},
   "outputs": [
    {
     "data": {
      "text/html": [
       "<div>\n",
       "<style scoped>\n",
       "    .dataframe tbody tr th:only-of-type {\n",
       "        vertical-align: middle;\n",
       "    }\n",
       "\n",
       "    .dataframe tbody tr th {\n",
       "        vertical-align: top;\n",
       "    }\n",
       "\n",
       "    .dataframe thead th {\n",
       "        text-align: right;\n",
       "    }\n",
       "</style>\n",
       "<table border=\"1\" class=\"dataframe\">\n",
       "  <thead>\n",
       "    <tr style=\"text-align: right;\">\n",
       "      <th></th>\n",
       "      <th>S.No.</th>\n",
       "      <th>Name</th>\n",
       "      <th>Mar Cap - Crore</th>\n",
       "      <th>Sales Qtr - Crore</th>\n",
       "      <th>Mar_Cap_Categories</th>\n",
       "    </tr>\n",
       "  </thead>\n",
       "  <tbody>\n",
       "    <tr>\n",
       "      <th>0</th>\n",
       "      <td>1</td>\n",
       "      <td>Reliance Inds.</td>\n",
       "      <td>583436.72</td>\n",
       "      <td>99810.00</td>\n",
       "      <td>Large-cap</td>\n",
       "    </tr>\n",
       "    <tr>\n",
       "      <th>1</th>\n",
       "      <td>2</td>\n",
       "      <td>TCS</td>\n",
       "      <td>563709.84</td>\n",
       "      <td>30904.00</td>\n",
       "      <td>Large-cap</td>\n",
       "    </tr>\n",
       "    <tr>\n",
       "      <th>2</th>\n",
       "      <td>3</td>\n",
       "      <td>HDFC Bank</td>\n",
       "      <td>482953.59</td>\n",
       "      <td>20581.27</td>\n",
       "      <td>Large-cap</td>\n",
       "    </tr>\n",
       "    <tr>\n",
       "      <th>3</th>\n",
       "      <td>4</td>\n",
       "      <td>ITC</td>\n",
       "      <td>320985.27</td>\n",
       "      <td>9772.02</td>\n",
       "      <td>Large-cap</td>\n",
       "    </tr>\n",
       "    <tr>\n",
       "      <th>4</th>\n",
       "      <td>5</td>\n",
       "      <td>H D F C</td>\n",
       "      <td>289497.37</td>\n",
       "      <td>16840.51</td>\n",
       "      <td>Large-cap</td>\n",
       "    </tr>\n",
       "    <tr>\n",
       "      <th>...</th>\n",
       "      <td>...</td>\n",
       "      <td>...</td>\n",
       "      <td>...</td>\n",
       "      <td>...</td>\n",
       "      <td>...</td>\n",
       "    </tr>\n",
       "    <tr>\n",
       "      <th>131</th>\n",
       "      <td>134</td>\n",
       "      <td>Cholaman.Inv.&amp;Fn</td>\n",
       "      <td>20832.40</td>\n",
       "      <td>1404.33</td>\n",
       "      <td>Large-cap</td>\n",
       "    </tr>\n",
       "    <tr>\n",
       "      <th>132</th>\n",
       "      <td>135</td>\n",
       "      <td>Indraprastha Gas</td>\n",
       "      <td>20779.52</td>\n",
       "      <td>1183.90</td>\n",
       "      <td>Large-cap</td>\n",
       "    </tr>\n",
       "    <tr>\n",
       "      <th>133</th>\n",
       "      <td>136</td>\n",
       "      <td>M R P L</td>\n",
       "      <td>20750.78</td>\n",
       "      <td>14100.98</td>\n",
       "      <td>Large-cap</td>\n",
       "    </tr>\n",
       "    <tr>\n",
       "      <th>134</th>\n",
       "      <td>137</td>\n",
       "      <td>Glaxosmi. Pharma</td>\n",
       "      <td>20489.35</td>\n",
       "      <td>703.91</td>\n",
       "      <td>Large-cap</td>\n",
       "    </tr>\n",
       "    <tr>\n",
       "      <th>135</th>\n",
       "      <td>138</td>\n",
       "      <td>PNB Housing</td>\n",
       "      <td>20037.85</td>\n",
       "      <td>1438.49</td>\n",
       "      <td>Large-cap</td>\n",
       "    </tr>\n",
       "  </tbody>\n",
       "</table>\n",
       "<p>135 rows × 5 columns</p>\n",
       "</div>"
      ],
      "text/plain": [
       "     S.No.              Name  Mar Cap - Crore  Sales Qtr - Crore  \\\n",
       "0        1    Reliance Inds.        583436.72           99810.00   \n",
       "1        2               TCS        563709.84           30904.00   \n",
       "2        3         HDFC Bank        482953.59           20581.27   \n",
       "3        4               ITC        320985.27            9772.02   \n",
       "4        5           H D F C        289497.37           16840.51   \n",
       "..     ...               ...              ...                ...   \n",
       "131    134  Cholaman.Inv.&Fn         20832.40            1404.33   \n",
       "132    135  Indraprastha Gas         20779.52            1183.90   \n",
       "133    136           M R P L         20750.78           14100.98   \n",
       "134    137  Glaxosmi. Pharma         20489.35             703.91   \n",
       "135    138       PNB Housing         20037.85            1438.49   \n",
       "\n",
       "    Mar_Cap_Categories  \n",
       "0            Large-cap  \n",
       "1            Large-cap  \n",
       "2            Large-cap  \n",
       "3            Large-cap  \n",
       "4            Large-cap  \n",
       "..                 ...  \n",
       "131          Large-cap  \n",
       "132          Large-cap  \n",
       "133          Large-cap  \n",
       "134          Large-cap  \n",
       "135          Large-cap  \n",
       "\n",
       "[135 rows x 5 columns]"
      ]
     },
     "execution_count": 14,
     "metadata": {},
     "output_type": "execute_result"
    }
   ],
   "source": [
    "data[data['Mar_Cap_Categories'].str.contains('Large-cap')]"
   ]
  },
  {
   "cell_type": "code",
   "execution_count": 15,
   "id": "f14108b6-769b-4fb0-9874-eedbccc3d1bc",
   "metadata": {},
   "outputs": [
    {
     "data": {
      "image/png": "[encoded data removed]",
      "text/plain": [
       "<Figure size 1000x600 with 1 Axes>"
      ]
     },
     "metadata": {},
     "output_type": "display_data"
    }
   ],
   "source": [
    "plt.figure(figsize=(10, 6))\n",
    "sns.scatterplot(x='Mar Cap - Crore', y='Sales Qtr - Crore', data=data )\n",
    "plt.title('Market Cap vs Qtr Sales')\n",
    "plt.xlabel('Market Cap - Crore')\n",
    "plt.ylabel('Quarterly Sales - Crore')\n",
    "plt.grid(True)\n",
    "plt.show()"
   ]
  },
  {
   "cell_type": "code",
   "execution_count": null,
   "id": "3cddffd5-283d-4f67-ad28-9e7a135f052d",
   "metadata": {},
   "outputs": [],
   "source": []
  }
 ],
 "metadata": {
  "kernelspec": {
   "display_name": "Python 3 (ipykernel)",
   "language": "python",
   "name": "python3"
  },
  "language_info": {
   "codemirror_mode": {
    "name": "ipython",
    "version": 3
   },
   "file_extension": ".py",
   "mimetype": "text/x-python",
   "name": "python",
   "nbconvert_exporter": "python",
   "pygments_lexer": "ipython3",
   "version": "3.12.1"
  }
 },
 "nbformat": 4,
 "nbformat_minor": 5
}
